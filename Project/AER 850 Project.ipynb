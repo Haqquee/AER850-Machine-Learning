{
 "cells": [
  {
   "cell_type": "markdown",
   "source": [
    "AER 850 Machine Learning Project\n",
    "Hussein Hamie 500876254\n",
    "Mishran Haque 500896460\n",
    "\n",
    "**Turbofan Engine Remaining Useful Life Prediction**\n",
    "**DATASET:** NASA Turbofan Jet Engine Data Set"
   ],
   "metadata": {
    "collapsed": false
   }
  },
  {
   "cell_type": "markdown",
   "source": [
    "Data sets consists of multiple multivariate time series. Each data set is further divided into training and test subsets. Each time series is from a different engine i.e., the data can be considered to be from a fleet of engines of the same type. Each engine starts with different degrees of initial wear and manufacturing variation which is unknown to the user. This wear and variation is considered normal, i.e., it is not considered a fault condition. There are three operational settings that have a substantial effect on engine performance. These settings are also included in the data. The data is contaminated with sensor noise.\n",
    "\n",
    "The engine is operating normally at the start of each time series, and develops a fault at some point during the series. In the training set, the fault grows in magnitude until system failure. In the test set, the time series ends some time prior to system failure. The objective of the competition is to predict the number of remaining operational cycles before failure in the test set, i.e., the number of operational cycles after the last cycle that the engine will continue to operate. Also provided a vector of true Remaining Useful Life (RUL) values for the test data.\n",
    "\n",
    "The data are provided as a zip-compressed text file with 26 columns of numbers, separated by spaces. Each row is a snapshot of data taken during a single operational cycle, each column is a different variable. The columns correspond to:\n",
    "1) unit number\n",
    "2) time, in cycles\n",
    "3) operational setting 1\n",
    "4) operational setting 2\n",
    "5) operational setting 3\n",
    "6) sensor measurement 1\n",
    "7) sensor measurement 2\n",
    "...\n",
    "26) sensor measurement 26\n",
    "\n",
    "Data Set: FD001\n",
    "Train trjectories: 100\n",
    "Test trajectories: 100\n",
    "Conditions: ONE (Sea Level)\n",
    "Fault Modes: ONE (HPC Degradation)\n",
    "\n",
    "Data Set: FD002\n",
    "Train trjectories: 260\n",
    "Test trajectories: 259\n",
    "Conditions: SIX\n",
    "Fault Modes: ONE (HPC Degradation)\n",
    "\n",
    "Data Set: FD003\n",
    "Train trjectories: 100\n",
    "Test trajectories: 100\n",
    "Conditions: ONE (Sea Level)\n",
    "Fault Modes: TWO (HPC Degradation, Fan Degradation)\n",
    "\n",
    "Data Set: FD004\n",
    "Train trjectories: 248\n",
    "Test trajectories: 249\n",
    "Conditions: SIX\n",
    "Fault Modes: TWO (HPC Degradation, Fan Degradation)\n",
    "\n",
    "Reference: A. Saxena, K. Goebel, D. Simon, and N. Eklund, ‘Damage Propagation Modeling for Aircraft Engine Run-to-Failure Simulation’, in the Proceedings of the 1st International Conference on Prognostics and Health Management (PHM08), Denver CO, Oct 2008."
   ],
   "metadata": {
    "collapsed": false
   }
  },
  {
   "cell_type": "code",
   "execution_count": 65,
   "metadata": {
    "collapsed": true,
    "ExecuteTime": {
     "start_time": "2023-04-09T19:10:55.487971Z",
     "end_time": "2023-04-09T19:10:55.511976Z"
    }
   },
   "outputs": [],
   "source": [
    "import pandas as pd\n",
    "import numpy as np\n",
    "import matplotlib.pyplot as plt\n",
    "import seaborn as sns\n",
    "from sklearn.ensemble import RandomForestRegressor\n",
    "import sklearn\n",
    "from sklearn.metrics import mean_squared_error, r2_score\n",
    "import os\n",
    "from sklearn.model_selection import train_test_split\n",
    "from sklearn.preprocessing import StandardScaler\n",
    "import random\n",
    "import warnings\n",
    "#warnings.filterwarnings('ignore')"
   ]
  },
  {
   "cell_type": "markdown",
   "source": [],
   "metadata": {
    "collapsed": false
   }
  },
  {
   "cell_type": "code",
   "execution_count": 66,
   "outputs": [],
   "source": [
    "# define filepath to read data\n",
    "dir_path = './CMaps/'\n",
    "# define column names for easy indexing\n",
    "index_names = ['unit_number', 'time_cycles']\n",
    "setting_names = ['setting_1', 'setting_2', 'setting_3']\n",
    "sensor_names = sensor_names=[ \"(Total temperature at fan inlet) (◦R)\",\n",
    "                              \"(Total temperature at LPC outlet) (◦R)\",\n",
    "                              \"(Total temperature at HPC outlet) (◦R)\",\n",
    "                              \"(Total temperature at LPT outlet) (◦R)\",\n",
    "                              \"(Pressure at fan inlet) (psia)\",\n",
    "                              \"(Total pressure in bypass-duct) (psia)\",\n",
    "                              \"(Total pressure at HPC outlet) (psia)\",\n",
    "                              \"(Physical fan speed) (rpm)\",\n",
    "                              \"(Physical core speed) (rpm)\",\n",
    "                              \"(Engine pressure ratio(P50/P2)\",\n",
    "                              \"(Static pressure at HPC outlet) (psia)\",\n",
    "                              \"(Ratio of fuel flow to Ps30) (pps/psia)\",\n",
    "                              \"(Corrected fan speed) (rpm)\",\n",
    "                              \"(Corrected core speed) (rpm)\",\n",
    "                              \"(Bypass Ratio) \",\n",
    "                              \"(Burner fuel-air ratio)\",\n",
    "                              \"(Bleed Enthalpy)\",\n",
    "                              \"(Demanded fan speed)\",\n",
    "                              \"(Demanded corrected fan speed)\",\n",
    "                              \"(HPT coolant bleed (lbm/s))\",\n",
    "                              \"(LPT coolant bleed (lbm/s))\" ]\n",
    "col_names = index_names + setting_names + sensor_names"
   ],
   "metadata": {
    "collapsed": false,
    "ExecuteTime": {
     "start_time": "2023-04-09T19:10:55.504975Z",
     "end_time": "2023-04-09T19:10:55.542983Z"
    }
   }
  },
  {
   "cell_type": "code",
   "execution_count": 67,
   "outputs": [],
   "source": [
    "FD001_train = pd.read_csv('CMaps/train_FD001.txt',sep='\\s+',header=None,index_col=False,names=col_names)\n",
    "FD001_test = pd.read_csv('CMaps/test_FD001.txt',sep='\\s+',header=None,index_col=False,names=col_names)\n",
    "\n",
    "FD002_train = pd.read_csv('CMaps/train_FD002.txt',sep='\\s+',header=None,index_col=False,names=col_names)\n",
    "FD002_test = pd.read_csv('CMaps/test_FD002.txt',sep='\\s+',header=None,index_col=False,names=col_names)\n",
    "\n",
    "FD003_train = pd.read_csv('CMaps/train_FD003.txt',sep='\\s+',header=None,index_col=False,names=col_names)\n",
    "FD003_test = pd.read_csv('CMaps/test_FD003.txt',sep='\\s+',header=None,index_col=False,names=col_names)\n",
    "\n",
    "FD004_train = pd.read_csv('CMaps/train_FD004.txt',sep='\\s+',header=None,index_col=False,names=col_names)\n",
    "FD004_test = pd.read_csv('CMaps/test_FD004.txt',sep='\\s+',header=None,index_col=False,names=col_names)"
   ],
   "metadata": {
    "collapsed": false,
    "ExecuteTime": {
     "start_time": "2023-04-09T19:10:55.520978Z",
     "end_time": "2023-04-09T19:10:57.784297Z"
    }
   }
  },
  {
   "cell_type": "code",
   "execution_count": 68,
   "outputs": [
    {
     "data": {
      "text/plain": "   unit_number  time_cycles  setting_1  setting_2  setting_3  \\\n0            1            1    -0.0007    -0.0004      100.0   \n1            1            2     0.0019    -0.0003      100.0   \n2            1            3    -0.0043     0.0003      100.0   \n3            1            4     0.0007     0.0000      100.0   \n4            1            5    -0.0019    -0.0002      100.0   \n\n   (Total temperature at fan inlet) (◦R)  \\\n0                                 518.67   \n1                                 518.67   \n2                                 518.67   \n3                                 518.67   \n4                                 518.67   \n\n   (Total temperature at LPC outlet) (◦R)  \\\n0                                  641.82   \n1                                  642.15   \n2                                  642.35   \n3                                  642.35   \n4                                  642.37   \n\n   (Total temperature at HPC outlet) (◦R)  \\\n0                                 1589.70   \n1                                 1591.82   \n2                                 1587.99   \n3                                 1582.79   \n4                                 1582.85   \n\n   (Total temperature at LPT outlet) (◦R)  (Pressure at fan inlet) (psia)  \\\n0                                 1400.60                           14.62   \n1                                 1403.14                           14.62   \n2                                 1404.20                           14.62   \n3                                 1401.87                           14.62   \n4                                 1406.22                           14.62   \n\n   ...  (Ratio of fuel flow to Ps30) (pps/psia)  (Corrected fan speed) (rpm)  \\\n0  ...                                   521.66                      2388.02   \n1  ...                                   522.28                      2388.07   \n2  ...                                   522.42                      2388.03   \n3  ...                                   522.86                      2388.08   \n4  ...                                   522.19                      2388.04   \n\n   (Corrected core speed) (rpm)  (Bypass Ratio)   (Burner fuel-air ratio)  \\\n0                       8138.62           8.4195                     0.03   \n1                       8131.49           8.4318                     0.03   \n2                       8133.23           8.4178                     0.03   \n3                       8133.83           8.3682                     0.03   \n4                       8133.80           8.4294                     0.03   \n\n   (Bleed Enthalpy)  (Demanded fan speed)  (Demanded corrected fan speed)  \\\n0               392                  2388                           100.0   \n1               392                  2388                           100.0   \n2               390                  2388                           100.0   \n3               392                  2388                           100.0   \n4               393                  2388                           100.0   \n\n   (HPT coolant bleed (lbm/s))  (LPT coolant bleed (lbm/s))  \n0                        39.06                      23.4190  \n1                        39.00                      23.4236  \n2                        38.95                      23.3442  \n3                        38.88                      23.3739  \n4                        38.90                      23.4044  \n\n[5 rows x 26 columns]",
      "text/html": "<div>\n<style scoped>\n    .dataframe tbody tr th:only-of-type {\n        vertical-align: middle;\n    }\n\n    .dataframe tbody tr th {\n        vertical-align: top;\n    }\n\n    .dataframe thead th {\n        text-align: right;\n    }\n</style>\n<table border=\"1\" class=\"dataframe\">\n  <thead>\n    <tr style=\"text-align: right;\">\n      <th></th>\n      <th>unit_number</th>\n      <th>time_cycles</th>\n      <th>setting_1</th>\n      <th>setting_2</th>\n      <th>setting_3</th>\n      <th>(Total temperature at fan inlet) (◦R)</th>\n      <th>(Total temperature at LPC outlet) (◦R)</th>\n      <th>(Total temperature at HPC outlet) (◦R)</th>\n      <th>(Total temperature at LPT outlet) (◦R)</th>\n      <th>(Pressure at fan inlet) (psia)</th>\n      <th>...</th>\n      <th>(Ratio of fuel flow to Ps30) (pps/psia)</th>\n      <th>(Corrected fan speed) (rpm)</th>\n      <th>(Corrected core speed) (rpm)</th>\n      <th>(Bypass Ratio)</th>\n      <th>(Burner fuel-air ratio)</th>\n      <th>(Bleed Enthalpy)</th>\n      <th>(Demanded fan speed)</th>\n      <th>(Demanded corrected fan speed)</th>\n      <th>(HPT coolant bleed (lbm/s))</th>\n      <th>(LPT coolant bleed (lbm/s))</th>\n    </tr>\n  </thead>\n  <tbody>\n    <tr>\n      <th>0</th>\n      <td>1</td>\n      <td>1</td>\n      <td>-0.0007</td>\n      <td>-0.0004</td>\n      <td>100.0</td>\n      <td>518.67</td>\n      <td>641.82</td>\n      <td>1589.70</td>\n      <td>1400.60</td>\n      <td>14.62</td>\n      <td>...</td>\n      <td>521.66</td>\n      <td>2388.02</td>\n      <td>8138.62</td>\n      <td>8.4195</td>\n      <td>0.03</td>\n      <td>392</td>\n      <td>2388</td>\n      <td>100.0</td>\n      <td>39.06</td>\n      <td>23.4190</td>\n    </tr>\n    <tr>\n      <th>1</th>\n      <td>1</td>\n      <td>2</td>\n      <td>0.0019</td>\n      <td>-0.0003</td>\n      <td>100.0</td>\n      <td>518.67</td>\n      <td>642.15</td>\n      <td>1591.82</td>\n      <td>1403.14</td>\n      <td>14.62</td>\n      <td>...</td>\n      <td>522.28</td>\n      <td>2388.07</td>\n      <td>8131.49</td>\n      <td>8.4318</td>\n      <td>0.03</td>\n      <td>392</td>\n      <td>2388</td>\n      <td>100.0</td>\n      <td>39.00</td>\n      <td>23.4236</td>\n    </tr>\n    <tr>\n      <th>2</th>\n      <td>1</td>\n      <td>3</td>\n      <td>-0.0043</td>\n      <td>0.0003</td>\n      <td>100.0</td>\n      <td>518.67</td>\n      <td>642.35</td>\n      <td>1587.99</td>\n      <td>1404.20</td>\n      <td>14.62</td>\n      <td>...</td>\n      <td>522.42</td>\n      <td>2388.03</td>\n      <td>8133.23</td>\n      <td>8.4178</td>\n      <td>0.03</td>\n      <td>390</td>\n      <td>2388</td>\n      <td>100.0</td>\n      <td>38.95</td>\n      <td>23.3442</td>\n    </tr>\n    <tr>\n      <th>3</th>\n      <td>1</td>\n      <td>4</td>\n      <td>0.0007</td>\n      <td>0.0000</td>\n      <td>100.0</td>\n      <td>518.67</td>\n      <td>642.35</td>\n      <td>1582.79</td>\n      <td>1401.87</td>\n      <td>14.62</td>\n      <td>...</td>\n      <td>522.86</td>\n      <td>2388.08</td>\n      <td>8133.83</td>\n      <td>8.3682</td>\n      <td>0.03</td>\n      <td>392</td>\n      <td>2388</td>\n      <td>100.0</td>\n      <td>38.88</td>\n      <td>23.3739</td>\n    </tr>\n    <tr>\n      <th>4</th>\n      <td>1</td>\n      <td>5</td>\n      <td>-0.0019</td>\n      <td>-0.0002</td>\n      <td>100.0</td>\n      <td>518.67</td>\n      <td>642.37</td>\n      <td>1582.85</td>\n      <td>1406.22</td>\n      <td>14.62</td>\n      <td>...</td>\n      <td>522.19</td>\n      <td>2388.04</td>\n      <td>8133.80</td>\n      <td>8.4294</td>\n      <td>0.03</td>\n      <td>393</td>\n      <td>2388</td>\n      <td>100.0</td>\n      <td>38.90</td>\n      <td>23.4044</td>\n    </tr>\n  </tbody>\n</table>\n<p>5 rows × 26 columns</p>\n</div>"
     },
     "execution_count": 68,
     "metadata": {},
     "output_type": "execute_result"
    }
   ],
   "source": [
    "FD001_train.head()"
   ],
   "metadata": {
    "collapsed": false,
    "ExecuteTime": {
     "start_time": "2023-04-09T19:10:57.785297Z",
     "end_time": "2023-04-09T19:10:57.802301Z"
    }
   }
  },
  {
   "cell_type": "code",
   "execution_count": 69,
   "outputs": [
    {
     "name": "stdout",
     "output_type": "stream",
     "text": [
      "<class 'pandas.core.frame.DataFrame'>\n",
      "RangeIndex: 20631 entries, 0 to 20630\n",
      "Data columns (total 26 columns):\n",
      " #   Column                                   Non-Null Count  Dtype  \n",
      "---  ------                                   --------------  -----  \n",
      " 0   unit_number                              20631 non-null  int64  \n",
      " 1   time_cycles                              20631 non-null  int64  \n",
      " 2   setting_1                                20631 non-null  float64\n",
      " 3   setting_2                                20631 non-null  float64\n",
      " 4   setting_3                                20631 non-null  float64\n",
      " 5   (Total temperature at fan inlet) (◦R)    20631 non-null  float64\n",
      " 6   (Total temperature at LPC outlet) (◦R)   20631 non-null  float64\n",
      " 7   (Total temperature at HPC outlet) (◦R)   20631 non-null  float64\n",
      " 8   (Total temperature at LPT outlet) (◦R)   20631 non-null  float64\n",
      " 9   (Pressure at fan inlet) (psia)           20631 non-null  float64\n",
      " 10  (Total pressure in bypass-duct) (psia)   20631 non-null  float64\n",
      " 11  (Total pressure at HPC outlet) (psia)    20631 non-null  float64\n",
      " 12  (Physical fan speed) (rpm)               20631 non-null  float64\n",
      " 13  (Physical core speed) (rpm)              20631 non-null  float64\n",
      " 14  (Engine pressure ratio(P50/P2)           20631 non-null  float64\n",
      " 15  (Static pressure at HPC outlet) (psia)   20631 non-null  float64\n",
      " 16  (Ratio of fuel flow to Ps30) (pps/psia)  20631 non-null  float64\n",
      " 17  (Corrected fan speed) (rpm)              20631 non-null  float64\n",
      " 18  (Corrected core speed) (rpm)             20631 non-null  float64\n",
      " 19  (Bypass Ratio)                           20631 non-null  float64\n",
      " 20  (Burner fuel-air ratio)                  20631 non-null  float64\n",
      " 21  (Bleed Enthalpy)                         20631 non-null  int64  \n",
      " 22  (Demanded fan speed)                     20631 non-null  int64  \n",
      " 23  (Demanded corrected fan speed)           20631 non-null  float64\n",
      " 24  (HPT coolant bleed (lbm/s))              20631 non-null  float64\n",
      " 25  (LPT coolant bleed (lbm/s))              20631 non-null  float64\n",
      "dtypes: float64(22), int64(4)\n",
      "memory usage: 4.1 MB\n"
     ]
    }
   ],
   "source": [
    "FD001_train.info()"
   ],
   "metadata": {
    "collapsed": false,
    "ExecuteTime": {
     "start_time": "2023-04-09T19:10:57.801301Z",
     "end_time": "2023-04-09T19:10:57.836308Z"
    }
   }
  },
  {
   "cell_type": "code",
   "execution_count": 70,
   "outputs": [
    {
     "data": {
      "text/plain": "        unit_number   time_cycles     setting_1     setting_2  setting_3  \\\ncount  20631.000000  20631.000000  20631.000000  20631.000000    20631.0   \nmean      51.506568    108.807862     -0.000009      0.000002      100.0   \nstd       29.227633     68.880990      0.002187      0.000293        0.0   \nmin        1.000000      1.000000     -0.008700     -0.000600      100.0   \n25%       26.000000     52.000000     -0.001500     -0.000200      100.0   \n50%       52.000000    104.000000      0.000000      0.000000      100.0   \n75%       77.000000    156.000000      0.001500      0.000300      100.0   \nmax      100.000000    362.000000      0.008700      0.000600      100.0   \n\n       (Total temperature at fan inlet) (◦R)  \\\ncount                           2.063100e+04   \nmean                            5.186700e+02   \nstd                             6.537152e-11   \nmin                             5.186700e+02   \n25%                             5.186700e+02   \n50%                             5.186700e+02   \n75%                             5.186700e+02   \nmax                             5.186700e+02   \n\n       (Total temperature at LPC outlet) (◦R)  \\\ncount                            20631.000000   \nmean                               642.680934   \nstd                                  0.500053   \nmin                                641.210000   \n25%                                642.325000   \n50%                                642.640000   \n75%                                643.000000   \nmax                                644.530000   \n\n       (Total temperature at HPC outlet) (◦R)  \\\ncount                            20631.000000   \nmean                              1590.523119   \nstd                                  6.131150   \nmin                               1571.040000   \n25%                               1586.260000   \n50%                               1590.100000   \n75%                               1594.380000   \nmax                               1616.910000   \n\n       (Total temperature at LPT outlet) (◦R)  (Pressure at fan inlet) (psia)  \\\ncount                            20631.000000                    2.063100e+04   \nmean                              1408.933782                    1.462000e+01   \nstd                                  9.000605                    3.394700e-12   \nmin                               1382.250000                    1.462000e+01   \n25%                               1402.360000                    1.462000e+01   \n50%                               1408.040000                    1.462000e+01   \n75%                               1414.555000                    1.462000e+01   \nmax                               1441.490000                    1.462000e+01   \n\n       ...  (Ratio of fuel flow to Ps30) (pps/psia)  \\\ncount  ...                             20631.000000   \nmean   ...                               521.413470   \nstd    ...                                 0.737553   \nmin    ...                               518.690000   \n25%    ...                               520.960000   \n50%    ...                               521.480000   \n75%    ...                               521.950000   \nmax    ...                               523.380000   \n\n       (Corrected fan speed) (rpm)  (Corrected core speed) (rpm)  \\\ncount                 20631.000000                  20631.000000   \nmean                   2388.096152                   8143.752722   \nstd                       0.071919                     19.076176   \nmin                    2387.880000                   8099.940000   \n25%                    2388.040000                   8133.245000   \n50%                    2388.090000                   8140.540000   \n75%                    2388.140000                   8148.310000   \nmax                    2388.560000                   8293.720000   \n\n       (Bypass Ratio)   (Burner fuel-air ratio)  (Bleed Enthalpy)  \\\ncount     20631.000000             2.063100e+04      20631.000000   \nmean          8.442146             3.000000e-02        393.210654   \nstd           0.037505             1.556432e-14          1.548763   \nmin           8.324900             3.000000e-02        388.000000   \n25%           8.414900             3.000000e-02        392.000000   \n50%           8.438900             3.000000e-02        393.000000   \n75%           8.465600             3.000000e-02        394.000000   \nmax           8.584800             3.000000e-02        400.000000   \n\n       (Demanded fan speed)  (Demanded corrected fan speed)  \\\ncount               20631.0                         20631.0   \nmean                 2388.0                           100.0   \nstd                     0.0                             0.0   \nmin                  2388.0                           100.0   \n25%                  2388.0                           100.0   \n50%                  2388.0                           100.0   \n75%                  2388.0                           100.0   \nmax                  2388.0                           100.0   \n\n       (HPT coolant bleed (lbm/s))  (LPT coolant bleed (lbm/s))  \ncount                 20631.000000                 20631.000000  \nmean                     38.816271                    23.289705  \nstd                       0.180746                     0.108251  \nmin                      38.140000                    22.894200  \n25%                      38.700000                    23.221800  \n50%                      38.830000                    23.297900  \n75%                      38.950000                    23.366800  \nmax                      39.430000                    23.618400  \n\n[8 rows x 26 columns]",
      "text/html": "<div>\n<style scoped>\n    .dataframe tbody tr th:only-of-type {\n        vertical-align: middle;\n    }\n\n    .dataframe tbody tr th {\n        vertical-align: top;\n    }\n\n    .dataframe thead th {\n        text-align: right;\n    }\n</style>\n<table border=\"1\" class=\"dataframe\">\n  <thead>\n    <tr style=\"text-align: right;\">\n      <th></th>\n      <th>unit_number</th>\n      <th>time_cycles</th>\n      <th>setting_1</th>\n      <th>setting_2</th>\n      <th>setting_3</th>\n      <th>(Total temperature at fan inlet) (◦R)</th>\n      <th>(Total temperature at LPC outlet) (◦R)</th>\n      <th>(Total temperature at HPC outlet) (◦R)</th>\n      <th>(Total temperature at LPT outlet) (◦R)</th>\n      <th>(Pressure at fan inlet) (psia)</th>\n      <th>...</th>\n      <th>(Ratio of fuel flow to Ps30) (pps/psia)</th>\n      <th>(Corrected fan speed) (rpm)</th>\n      <th>(Corrected core speed) (rpm)</th>\n      <th>(Bypass Ratio)</th>\n      <th>(Burner fuel-air ratio)</th>\n      <th>(Bleed Enthalpy)</th>\n      <th>(Demanded fan speed)</th>\n      <th>(Demanded corrected fan speed)</th>\n      <th>(HPT coolant bleed (lbm/s))</th>\n      <th>(LPT coolant bleed (lbm/s))</th>\n    </tr>\n  </thead>\n  <tbody>\n    <tr>\n      <th>count</th>\n      <td>20631.000000</td>\n      <td>20631.000000</td>\n      <td>20631.000000</td>\n      <td>20631.000000</td>\n      <td>20631.0</td>\n      <td>2.063100e+04</td>\n      <td>20631.000000</td>\n      <td>20631.000000</td>\n      <td>20631.000000</td>\n      <td>2.063100e+04</td>\n      <td>...</td>\n      <td>20631.000000</td>\n      <td>20631.000000</td>\n      <td>20631.000000</td>\n      <td>20631.000000</td>\n      <td>2.063100e+04</td>\n      <td>20631.000000</td>\n      <td>20631.0</td>\n      <td>20631.0</td>\n      <td>20631.000000</td>\n      <td>20631.000000</td>\n    </tr>\n    <tr>\n      <th>mean</th>\n      <td>51.506568</td>\n      <td>108.807862</td>\n      <td>-0.000009</td>\n      <td>0.000002</td>\n      <td>100.0</td>\n      <td>5.186700e+02</td>\n      <td>642.680934</td>\n      <td>1590.523119</td>\n      <td>1408.933782</td>\n      <td>1.462000e+01</td>\n      <td>...</td>\n      <td>521.413470</td>\n      <td>2388.096152</td>\n      <td>8143.752722</td>\n      <td>8.442146</td>\n      <td>3.000000e-02</td>\n      <td>393.210654</td>\n      <td>2388.0</td>\n      <td>100.0</td>\n      <td>38.816271</td>\n      <td>23.289705</td>\n    </tr>\n    <tr>\n      <th>std</th>\n      <td>29.227633</td>\n      <td>68.880990</td>\n      <td>0.002187</td>\n      <td>0.000293</td>\n      <td>0.0</td>\n      <td>6.537152e-11</td>\n      <td>0.500053</td>\n      <td>6.131150</td>\n      <td>9.000605</td>\n      <td>3.394700e-12</td>\n      <td>...</td>\n      <td>0.737553</td>\n      <td>0.071919</td>\n      <td>19.076176</td>\n      <td>0.037505</td>\n      <td>1.556432e-14</td>\n      <td>1.548763</td>\n      <td>0.0</td>\n      <td>0.0</td>\n      <td>0.180746</td>\n      <td>0.108251</td>\n    </tr>\n    <tr>\n      <th>min</th>\n      <td>1.000000</td>\n      <td>1.000000</td>\n      <td>-0.008700</td>\n      <td>-0.000600</td>\n      <td>100.0</td>\n      <td>5.186700e+02</td>\n      <td>641.210000</td>\n      <td>1571.040000</td>\n      <td>1382.250000</td>\n      <td>1.462000e+01</td>\n      <td>...</td>\n      <td>518.690000</td>\n      <td>2387.880000</td>\n      <td>8099.940000</td>\n      <td>8.324900</td>\n      <td>3.000000e-02</td>\n      <td>388.000000</td>\n      <td>2388.0</td>\n      <td>100.0</td>\n      <td>38.140000</td>\n      <td>22.894200</td>\n    </tr>\n    <tr>\n      <th>25%</th>\n      <td>26.000000</td>\n      <td>52.000000</td>\n      <td>-0.001500</td>\n      <td>-0.000200</td>\n      <td>100.0</td>\n      <td>5.186700e+02</td>\n      <td>642.325000</td>\n      <td>1586.260000</td>\n      <td>1402.360000</td>\n      <td>1.462000e+01</td>\n      <td>...</td>\n      <td>520.960000</td>\n      <td>2388.040000</td>\n      <td>8133.245000</td>\n      <td>8.414900</td>\n      <td>3.000000e-02</td>\n      <td>392.000000</td>\n      <td>2388.0</td>\n      <td>100.0</td>\n      <td>38.700000</td>\n      <td>23.221800</td>\n    </tr>\n    <tr>\n      <th>50%</th>\n      <td>52.000000</td>\n      <td>104.000000</td>\n      <td>0.000000</td>\n      <td>0.000000</td>\n      <td>100.0</td>\n      <td>5.186700e+02</td>\n      <td>642.640000</td>\n      <td>1590.100000</td>\n      <td>1408.040000</td>\n      <td>1.462000e+01</td>\n      <td>...</td>\n      <td>521.480000</td>\n      <td>2388.090000</td>\n      <td>8140.540000</td>\n      <td>8.438900</td>\n      <td>3.000000e-02</td>\n      <td>393.000000</td>\n      <td>2388.0</td>\n      <td>100.0</td>\n      <td>38.830000</td>\n      <td>23.297900</td>\n    </tr>\n    <tr>\n      <th>75%</th>\n      <td>77.000000</td>\n      <td>156.000000</td>\n      <td>0.001500</td>\n      <td>0.000300</td>\n      <td>100.0</td>\n      <td>5.186700e+02</td>\n      <td>643.000000</td>\n      <td>1594.380000</td>\n      <td>1414.555000</td>\n      <td>1.462000e+01</td>\n      <td>...</td>\n      <td>521.950000</td>\n      <td>2388.140000</td>\n      <td>8148.310000</td>\n      <td>8.465600</td>\n      <td>3.000000e-02</td>\n      <td>394.000000</td>\n      <td>2388.0</td>\n      <td>100.0</td>\n      <td>38.950000</td>\n      <td>23.366800</td>\n    </tr>\n    <tr>\n      <th>max</th>\n      <td>100.000000</td>\n      <td>362.000000</td>\n      <td>0.008700</td>\n      <td>0.000600</td>\n      <td>100.0</td>\n      <td>5.186700e+02</td>\n      <td>644.530000</td>\n      <td>1616.910000</td>\n      <td>1441.490000</td>\n      <td>1.462000e+01</td>\n      <td>...</td>\n      <td>523.380000</td>\n      <td>2388.560000</td>\n      <td>8293.720000</td>\n      <td>8.584800</td>\n      <td>3.000000e-02</td>\n      <td>400.000000</td>\n      <td>2388.0</td>\n      <td>100.0</td>\n      <td>39.430000</td>\n      <td>23.618400</td>\n    </tr>\n  </tbody>\n</table>\n<p>8 rows × 26 columns</p>\n</div>"
     },
     "execution_count": 70,
     "metadata": {},
     "output_type": "execute_result"
    }
   ],
   "source": [
    "FD001_train.describe(include='all')"
   ],
   "metadata": {
    "collapsed": false,
    "ExecuteTime": {
     "start_time": "2023-04-09T19:10:57.817304Z",
     "end_time": "2023-04-09T19:10:57.917333Z"
    }
   }
  },
  {
   "cell_type": "code",
   "execution_count": 71,
   "outputs": [
    {
     "data": {
      "text/plain": "unit_number                                0\ntime_cycles                                0\nsetting_1                                  0\nsetting_2                                  0\nsetting_3                                  0\n(Total temperature at fan inlet) (◦R)      0\n(Total temperature at LPC outlet) (◦R)     0\n(Total temperature at HPC outlet) (◦R)     0\n(Total temperature at LPT outlet) (◦R)     0\n(Pressure at fan inlet) (psia)             0\n(Total pressure in bypass-duct) (psia)     0\n(Total pressure at HPC outlet) (psia)      0\n(Physical fan speed) (rpm)                 0\n(Physical core speed) (rpm)                0\n(Engine pressure ratio(P50/P2)             0\n(Static pressure at HPC outlet) (psia)     0\n(Ratio of fuel flow to Ps30) (pps/psia)    0\n(Corrected fan speed) (rpm)                0\n(Corrected core speed) (rpm)               0\n(Bypass Ratio)                             0\n(Burner fuel-air ratio)                    0\n(Bleed Enthalpy)                           0\n(Demanded fan speed)                       0\n(Demanded corrected fan speed)             0\n(HPT coolant bleed (lbm/s))                0\n(LPT coolant bleed (lbm/s))                0\ndtype: int64"
     },
     "execution_count": 71,
     "metadata": {},
     "output_type": "execute_result"
    }
   ],
   "source": [
    "#Finding missing/incorrect data\n",
    "FD001_train.isnull().sum()"
   ],
   "metadata": {
    "collapsed": false,
    "ExecuteTime": {
     "start_time": "2023-04-09T19:10:57.865315Z",
     "end_time": "2023-04-09T19:10:57.917333Z"
    }
   }
  },
  {
   "cell_type": "code",
   "execution_count": 72,
   "outputs": [],
   "source": [
    "#Creating a data profiling report to get understand the data better\n",
    "#from ydata_profiling import ProfileReport\n",
    "#data_report = ProfileReport(FD001_train)\n",
    "#data_report.to_file(\"TrainDataset_Profile.html\")"
   ],
   "metadata": {
    "collapsed": false,
    "ExecuteTime": {
     "start_time": "2023-04-09T19:10:57.880324Z",
     "end_time": "2023-04-09T19:10:57.917333Z"
    }
   }
  },
  {
   "cell_type": "code",
   "execution_count": 73,
   "outputs": [],
   "source": [
    "#Dropping columns that do not contain necessary features (unit_number and operational settings)\n",
    "drop_cols = index_names + setting_names\n",
    "FD001_train = FD001_train.drop(columns = drop_cols)\n",
    "\n",
    "#Dropping feature columns with constant values\n",
    "unique = FD001_train.nunique()\n",
    "const_cols = unique[unique == 1].index.tolist()\n",
    "FD001_train = FD001_train.drop(columns = const_cols)"
   ],
   "metadata": {
    "collapsed": false,
    "ExecuteTime": {
     "start_time": "2023-04-09T19:10:57.897328Z",
     "end_time": "2023-04-09T19:10:57.933336Z"
    }
   }
  },
  {
   "cell_type": "code",
   "execution_count": 73,
   "outputs": [],
   "source": [
    "\n"
   ],
   "metadata": {
    "collapsed": false,
    "ExecuteTime": {
     "start_time": "2023-04-09T19:10:57.927335Z",
     "end_time": "2023-04-09T19:10:57.956342Z"
    }
   }
  },
  {
   "cell_type": "code",
   "execution_count": 73,
   "outputs": [],
   "source": [],
   "metadata": {
    "collapsed": false,
    "ExecuteTime": {
     "start_time": "2023-04-09T19:10:57.942338Z",
     "end_time": "2023-04-09T19:10:57.987348Z"
    }
   }
  }
 ],
 "metadata": {
  "kernelspec": {
   "display_name": "Python 3",
   "language": "python",
   "name": "python3"
  },
  "language_info": {
   "codemirror_mode": {
    "name": "ipython",
    "version": 2
   },
   "file_extension": ".py",
   "mimetype": "text/x-python",
   "name": "python",
   "nbconvert_exporter": "python",
   "pygments_lexer": "ipython2",
   "version": "2.7.6"
  }
 },
 "nbformat": 4,
 "nbformat_minor": 0
}
